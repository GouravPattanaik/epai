{
  "nbformat": 4,
  "nbformat_minor": 0,
  "metadata": {
    "colab": {
      "name": "Assignment_7_Quiz_Gourav_Pattanaik.ipynb",
      "provenance": [],
      "collapsed_sections": []
    },
    "kernelspec": {
      "name": "python3",
      "display_name": "Python 3"
    }
  },
  "cells": [
    {
      "cell_type": "code",
      "metadata": {
        "id": "rhR5wfdK08UW",
        "colab_type": "code",
        "colab": {
          "base_uri": "https://localhost:8080/",
          "height": 89
        },
        "outputId": "081dfff3-81b4-462b-8cdc-2dcef569445c"
      },
      "source": [
        "from datetime import datetime\n",
        "print(datetime.now())\n",
        "\n",
        "from datetime import datetime,timedelta\n",
        "import random\n",
        "\n",
        "start_dt = datetime(1901,1,1)\n",
        "end_date = datetime.now()\n",
        "\n",
        "def suffix(day):\n",
        "    if 4 <= day <= 20 or 24 <= day <= 30:\n",
        "        suffix = \"th\"\n",
        "    else:\n",
        "        suffix = [\"st\", \"nd\", \"rd\"][day % 10 - 1]\n",
        "    return suffix\n",
        "\n",
        "def _strftime(format, t):\n",
        "    return t.strftime(format).replace('{S}', str(t.day) + suffix(t.day))\n",
        "\n",
        "## 25 random dates with specified format\n",
        "formatted_random_dates = [_strftime('{S},%b, %Y', y) for y in (start_dt + timedelta(days = random.randint(1,(end_date-start_dt).days)) for x in range(0,25))]\n",
        "print(formatted_random_dates)\n",
        "from datetime import datetime\n",
        "print(datetime.now())"
      ],
      "execution_count": null,
      "outputs": [
        {
          "output_type": "stream",
          "text": [
            "2020-09-06 14:30:53.293678\n",
            "['3rd,Jan, 1981', '16th,Dec, 1980', '28th,Mar, 1933', '10th,Nov, 1939', '5th,Jun, 1918', '25th,Jun, 1916', '7th,Sep, 1911', '14th,May, 1952', '27th,Dec, 2011', '20th,Jul, 1979', '16th,Apr, 1945', '18th,Sep, 2000', '10th,Sep, 1955', '6th,Oct, 1933', '25th,Mar, 1912', '30th,Dec, 1907', '27th,Feb, 1983', '22nd,Feb, 1947', '12th,Jun, 1921', '24th,Jul, 1972', '1st,Jun, 1922', '29th,Dec, 1941', '27th,Mar, 1908', '29th,Oct, 1995', '22nd,Dec, 1924']\n",
            "2020-09-06 14:30:53.294494\n"
          ],
          "name": "stdout"
        }
      ]
    }
  ]
}