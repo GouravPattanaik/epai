{
  "nbformat": 4,
  "nbformat_minor": 0,
  "metadata": {
    "colab": {
      "name": "Gourav_Pattanaik_Quiz8.ipynb",
      "provenance": [],
      "collapsed_sections": [],
      "authorship_tag": "ABX9TyOkJq4MSJkBCYbstBjm/+Bv",
      "include_colab_link": true
    },
    "kernelspec": {
      "name": "python3",
      "display_name": "Python 3"
    }
  },
  "cells": [
    {
      "cell_type": "markdown",
      "metadata": {
        "id": "view-in-github",
        "colab_type": "text"
      },
      "source": [
        "<a href=\"https://colab.research.google.com/github/GouravPattanaik/epai/blob/master/Gourav_Pattanaik_Quiz8.ipynb\" target=\"_parent\"><img src=\"https://colab.research.google.com/assets/colab-badge.svg\" alt=\"Open In Colab\"/></a>"
      ]
    },
    {
      "cell_type": "code",
      "metadata": {
        "id": "wxMucO2quPlC",
        "colab_type": "code",
        "colab": {}
      },
      "source": [
        "def onClick_1(a):\n",
        "    '''\n",
        "        This function returns whatever is passed to it\n",
        "    '''\n",
        "    return a"
      ],
      "execution_count": 1,
      "outputs": []
    },
    {
      "cell_type": "code",
      "metadata": {
        "id": "CGHGCGAZuUcj",
        "colab_type": "code",
        "colab": {}
      },
      "source": [
        "def onClick_2(a):\n",
        "    '''\n",
        "        This function returns whatever is passed to it\n",
        "    '''\n",
        "    return a"
      ],
      "execution_count": 2,
      "outputs": []
    },
    {
      "cell_type": "code",
      "metadata": {
        "id": "1K_awlSDuUlh",
        "colab_type": "code",
        "colab": {}
      },
      "source": [
        "def onClick_3(a):\n",
        "    '''\n",
        "        This function returns whatever is passed to it\n",
        "    '''\n",
        "    return a"
      ],
      "execution_count": 3,
      "outputs": []
    },
    {
      "cell_type": "code",
      "metadata": {
        "id": "p_LzZ14kuUor",
        "colab_type": "code",
        "colab": {}
      },
      "source": [
        "def onClick_4(a):\n",
        "    '''\n",
        "        This function returns whatever is passed to it\n",
        "    '''\n",
        "    return a"
      ],
      "execution_count": 4,
      "outputs": []
    },
    {
      "cell_type": "code",
      "metadata": {
        "id": "WOsV-QAGuUsD",
        "colab_type": "code",
        "colab": {}
      },
      "source": [
        "cnt = {}\n",
        "def button_counter(fn,cnt):\n",
        "    \"\"\" Write a fn/closure such that we can track how many times each button was pressed. \n",
        "    To simulate different users, pass on/maintain separate dictionaries\n",
        "    Args:\n",
        "        fn: function call to be counted\n",
        "        cnt: user defined counter for each different user\n",
        "    Return:\n",
        "        inner: function -- Closure\n",
        "    \"\"\"\n",
        "    key = \"\"\n",
        "    def inner(*args, **kwargs):\n",
        "        nonlocal key\n",
        "        key = fn.__name__\n",
        "        if key not in cnt:            \n",
        "            cnt[key] = 0\n",
        "        cnt[key] += 1\n",
        "        print('{0} has been called {1} times'.format(fn.__name__, cnt[key]))\n",
        "        return fn(*args, **kwargs)\n",
        "    return inner"
      ],
      "execution_count": 5,
      "outputs": []
    },
    {
      "cell_type": "code",
      "metadata": {
        "id": "_Ah9V8B4utfz",
        "colab_type": "code",
        "colab": {}
      },
      "source": [
        "user1,user2,user3,user4={},{},{},{}\n",
        "count_onClick1 = button_counter(onClick_1,user1)\n",
        "count_onClick2 = button_counter(onClick_2,user1)\n",
        "count_onClick3 = button_counter(onClick_3,user1)\n",
        "count_onClick4 = button_counter(onClick_4,user1)"
      ],
      "execution_count": 11,
      "outputs": []
    },
    {
      "cell_type": "code",
      "metadata": {
        "id": "F9EcVdIkutin",
        "colab_type": "code",
        "colab": {
          "base_uri": "https://localhost:8080/",
          "height": 52
        },
        "outputId": "7e7697ad-e9e6-4f1e-fcc0-aea6a881da00"
      },
      "source": [
        "count_onClick1(1)"
      ],
      "execution_count": 7,
      "outputs": [
        {
          "output_type": "stream",
          "text": [
            "onClick_1 has been called 1 times\n"
          ],
          "name": "stdout"
        },
        {
          "output_type": "execute_result",
          "data": {
            "text/plain": [
              "1"
            ]
          },
          "metadata": {
            "tags": []
          },
          "execution_count": 7
        }
      ]
    },
    {
      "cell_type": "code",
      "metadata": {
        "id": "Ly1qAhziut9L",
        "colab_type": "code",
        "colab": {
          "base_uri": "https://localhost:8080/",
          "height": 52
        },
        "outputId": "d9a9c265-2f29-428e-94f2-8bca036745d6"
      },
      "source": [
        "count_onClick1(1)"
      ],
      "execution_count": 8,
      "outputs": [
        {
          "output_type": "stream",
          "text": [
            "onClick_1 has been called 2 times\n"
          ],
          "name": "stdout"
        },
        {
          "output_type": "execute_result",
          "data": {
            "text/plain": [
              "1"
            ]
          },
          "metadata": {
            "tags": []
          },
          "execution_count": 8
        }
      ]
    },
    {
      "cell_type": "code",
      "metadata": {
        "id": "A6-7kExCut_x",
        "colab_type": "code",
        "colab": {
          "base_uri": "https://localhost:8080/",
          "height": 35
        },
        "outputId": "09db5629-14f4-48d9-bae0-fd1535aa5b76"
      },
      "source": [
        "user1['onClick_1']"
      ],
      "execution_count": 9,
      "outputs": [
        {
          "output_type": "execute_result",
          "data": {
            "text/plain": [
              "2"
            ]
          },
          "metadata": {
            "tags": []
          },
          "execution_count": 9
        }
      ]
    },
    {
      "cell_type": "code",
      "metadata": {
        "id": "m70MkApMuuCp",
        "colab_type": "code",
        "colab": {
          "base_uri": "https://localhost:8080/",
          "height": 52
        },
        "outputId": "bb0d94e0-2232-4313-cc45-376d5ea4c4e9"
      },
      "source": [
        "count_onClick2(1)"
      ],
      "execution_count": 12,
      "outputs": [
        {
          "output_type": "stream",
          "text": [
            "onClick_2 has been called 1 times\n"
          ],
          "name": "stdout"
        },
        {
          "output_type": "execute_result",
          "data": {
            "text/plain": [
              "1"
            ]
          },
          "metadata": {
            "tags": []
          },
          "execution_count": 12
        }
      ]
    },
    {
      "cell_type": "code",
      "metadata": {
        "id": "sm-UHM1cvSIZ",
        "colab_type": "code",
        "colab": {
          "base_uri": "https://localhost:8080/",
          "height": 35
        },
        "outputId": "8e8ea72b-a5c3-42a8-eb38-e965f5bfb2a0"
      },
      "source": [
        "user1['onClick_2']"
      ],
      "execution_count": 13,
      "outputs": [
        {
          "output_type": "execute_result",
          "data": {
            "text/plain": [
              "1"
            ]
          },
          "metadata": {
            "tags": []
          },
          "execution_count": 13
        }
      ]
    },
    {
      "cell_type": "code",
      "metadata": {
        "id": "AGBu-5w2u7-K",
        "colab_type": "code",
        "colab": {}
      },
      "source": [
        "user1,user2,user3,user4={},{},{},{}\n",
        "count_onClick1 = button_counter(onClick_1,user2)\n",
        "count_onClick2 = button_counter(onClick_2,user2)\n",
        "count_onClick3 = button_counter(onClick_3,user2)\n",
        "count_onClick4 = button_counter(onClick_4,user2)"
      ],
      "execution_count": 14,
      "outputs": []
    },
    {
      "cell_type": "code",
      "metadata": {
        "id": "hUHn9UQDu8BH",
        "colab_type": "code",
        "colab": {
          "base_uri": "https://localhost:8080/",
          "height": 52
        },
        "outputId": "880d0300-dbf2-4352-f07c-3e2d6e18f67a"
      },
      "source": [
        "count_onClick2(1)"
      ],
      "execution_count": 15,
      "outputs": [
        {
          "output_type": "stream",
          "text": [
            "onClick_2 has been called 1 times\n"
          ],
          "name": "stdout"
        },
        {
          "output_type": "execute_result",
          "data": {
            "text/plain": [
              "1"
            ]
          },
          "metadata": {
            "tags": []
          },
          "execution_count": 15
        }
      ]
    },
    {
      "cell_type": "code",
      "metadata": {
        "id": "An824kkWvcUt",
        "colab_type": "code",
        "colab": {
          "base_uri": "https://localhost:8080/",
          "height": 52
        },
        "outputId": "6a3154ee-07c2-4fdf-c7b5-acc18a1a2bca"
      },
      "source": [
        "count_onClick2(1)"
      ],
      "execution_count": 16,
      "outputs": [
        {
          "output_type": "stream",
          "text": [
            "onClick_2 has been called 2 times\n"
          ],
          "name": "stdout"
        },
        {
          "output_type": "execute_result",
          "data": {
            "text/plain": [
              "1"
            ]
          },
          "metadata": {
            "tags": []
          },
          "execution_count": 16
        }
      ]
    },
    {
      "cell_type": "code",
      "metadata": {
        "id": "ikBtF1W1vcXe",
        "colab_type": "code",
        "colab": {
          "base_uri": "https://localhost:8080/",
          "height": 35
        },
        "outputId": "512f03d8-24d4-4001-ce55-0e317592d82e"
      },
      "source": [
        "user2['onClick_2']"
      ],
      "execution_count": 17,
      "outputs": [
        {
          "output_type": "execute_result",
          "data": {
            "text/plain": [
              "2"
            ]
          },
          "metadata": {
            "tags": []
          },
          "execution_count": 17
        }
      ]
    },
    {
      "cell_type": "code",
      "metadata": {
        "id": "Td22zWTFvcaZ",
        "colab_type": "code",
        "colab": {}
      },
      "source": [
        "user1,user2,user3,user4={},{},{},{}\n",
        "count_onClick1 = button_counter(onClick_1,user3)\n",
        "count_onClick2 = button_counter(onClick_2,user3)\n",
        "count_onClick3 = button_counter(onClick_3,user3)\n",
        "count_onClick4 = button_counter(onClick_4,user3)"
      ],
      "execution_count": 18,
      "outputs": []
    },
    {
      "cell_type": "code",
      "metadata": {
        "id": "DRx2mRavvkIG",
        "colab_type": "code",
        "colab": {
          "base_uri": "https://localhost:8080/",
          "height": 52
        },
        "outputId": "0d74dc76-7d27-44a7-b541-334f0360c360"
      },
      "source": [
        "count_onClick3(1)"
      ],
      "execution_count": 19,
      "outputs": [
        {
          "output_type": "stream",
          "text": [
            "onClick_3 has been called 1 times\n"
          ],
          "name": "stdout"
        },
        {
          "output_type": "execute_result",
          "data": {
            "text/plain": [
              "1"
            ]
          },
          "metadata": {
            "tags": []
          },
          "execution_count": 19
        }
      ]
    },
    {
      "cell_type": "code",
      "metadata": {
        "id": "lf3b8gdcvkK5",
        "colab_type": "code",
        "colab": {
          "base_uri": "https://localhost:8080/",
          "height": 35
        },
        "outputId": "b22b0ba3-4745-4da4-8cdd-95abffeaa686"
      },
      "source": [
        "user3['onClick_3']"
      ],
      "execution_count": 21,
      "outputs": [
        {
          "output_type": "execute_result",
          "data": {
            "text/plain": [
              "1"
            ]
          },
          "metadata": {
            "tags": []
          },
          "execution_count": 21
        }
      ]
    },
    {
      "cell_type": "code",
      "metadata": {
        "id": "NJmGeQATvkNw",
        "colab_type": "code",
        "colab": {}
      },
      "source": [
        "user1,user2,user3,user4={},{},{},{}\n",
        "count_onClick1 = button_counter(onClick_1,user4)\n",
        "count_onClick2 = button_counter(onClick_2,user4)\n",
        "count_onClick3 = button_counter(onClick_3,user4)\n",
        "count_onClick4 = button_counter(onClick_4,user4)"
      ],
      "execution_count": 22,
      "outputs": []
    },
    {
      "cell_type": "code",
      "metadata": {
        "id": "zR2y3Qe1vkQV",
        "colab_type": "code",
        "colab": {
          "base_uri": "https://localhost:8080/",
          "height": 52
        },
        "outputId": "8cba3275-ba3c-48f2-bf13-536dff623aee"
      },
      "source": [
        "count_onClick4(1)"
      ],
      "execution_count": 23,
      "outputs": [
        {
          "output_type": "stream",
          "text": [
            "onClick_4 has been called 1 times\n"
          ],
          "name": "stdout"
        },
        {
          "output_type": "execute_result",
          "data": {
            "text/plain": [
              "1"
            ]
          },
          "metadata": {
            "tags": []
          },
          "execution_count": 23
        }
      ]
    },
    {
      "cell_type": "code",
      "metadata": {
        "id": "8ePhBj7YvcdK",
        "colab_type": "code",
        "colab": {
          "base_uri": "https://localhost:8080/",
          "height": 35
        },
        "outputId": "4bd924c9-1107-4cc2-b625-25aed2960960"
      },
      "source": [
        "user4['onClick_4']"
      ],
      "execution_count": 27,
      "outputs": [
        {
          "output_type": "execute_result",
          "data": {
            "text/plain": [
              "1"
            ]
          },
          "metadata": {
            "tags": []
          },
          "execution_count": 27
        }
      ]
    }
  ]
}